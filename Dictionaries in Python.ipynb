{
 "cells": [
  {
   "cell_type": "markdown",
   "metadata": {},
   "source": [
    "## Dictionaries in Python\n",
    "\n",
    "- Dictionaries contain key:value pairs\n",
    "- Values can be of any data type\n",
    "- keys must be immutable (string, number, tuple with immutable elements) and unique\n"
   ]
  },
  {
   "cell_type": "code",
   "execution_count": 27,
   "metadata": {},
   "outputs": [
    {
     "name": "stdout",
     "output_type": "stream",
     "text": [
      "{'Mango': 100, 'Apple': 80}\n",
      "100\n",
      "24\n",
      "{'Mango': 24, 'Apple': 80, 'Guava': 60}\n",
      "20\n",
      "{'Mango': 24, 'Apple': 80, 'Guava': 60, 'Grape': [10, 20], 'Pineapple': {'Small': 90, 'Large': 150}}\n",
      "{'Small': 90, 'Large': 150}\n",
      "150\n"
     ]
    }
   ],
   "source": [
    "d = {\"Mango\":100, \"Apple\":80}\n",
    "print(d)\n",
    "print(d[\"Mango\"])\n",
    "d[\"Mango\"] = 24\n",
    "print(d[\"Mango\"])\n",
    "\n",
    "d[\"Guava\"] = 60\n",
    "print(d)\n",
    "\n",
    "d[\"Grape\"] = [10,20]\n",
    "print(d[\"Grape\"][1])\n",
    "\n",
    "d[\"Pineapple\"] = {\"Small\": 90, \"Large\": 150}\n",
    "print(d)\n",
    "print(d[\"Pineapple\"])\n",
    "print(d[\"Pineapple\"][\"Large\"])"
   ]
  },
  {
   "cell_type": "code",
   "execution_count": 28,
   "metadata": {},
   "outputs": [
    {
     "name": "stdout",
     "output_type": "stream",
     "text": [
      "dict_keys(['Mango', 'Apple', 'Guava', 'Grape', 'Pineapple'])\n"
     ]
    }
   ],
   "source": [
    "print(d.keys())"
   ]
  },
  {
   "cell_type": "code",
   "execution_count": 29,
   "metadata": {},
   "outputs": [
    {
     "name": "stdout",
     "output_type": "stream",
     "text": [
      "<class 'dict_keys'>\n"
     ]
    }
   ],
   "source": [
    "print(type(d.keys()))"
   ]
  },
  {
   "cell_type": "code",
   "execution_count": 30,
   "metadata": {},
   "outputs": [
    {
     "name": "stdout",
     "output_type": "stream",
     "text": [
      "dict_values([24, 80, 60, [10, 20], {'Small': 90, 'Large': 150}])\n"
     ]
    }
   ],
   "source": [
    "print(d.values())"
   ]
  },
  {
   "cell_type": "code",
   "execution_count": 31,
   "metadata": {},
   "outputs": [
    {
     "name": "stdout",
     "output_type": "stream",
     "text": [
      "['Mango', 'Apple', 'Guava', 'Grape', 'Pineapple']\n",
      "[24, 80, 60, [10, 20], {'Small': 90, 'Large': 150}]\n"
     ]
    }
   ],
   "source": [
    "print(list(d.keys()))\n",
    "print(list(d.values()))"
   ]
  },
  {
   "cell_type": "code",
   "execution_count": 32,
   "metadata": {},
   "outputs": [
    {
     "name": "stdout",
     "output_type": "stream",
     "text": [
      "24\n"
     ]
    }
   ],
   "source": [
    "print(d.get(\"Mango\"))"
   ]
  },
  {
   "cell_type": "code",
   "execution_count": 33,
   "metadata": {},
   "outputs": [
    {
     "name": "stdout",
     "output_type": "stream",
     "text": [
      "None\n"
     ]
    }
   ],
   "source": [
    "print(d.get(\"Watermelon\"))"
   ]
  },
  {
   "cell_type": "code",
   "execution_count": 34,
   "metadata": {},
   "outputs": [
    {
     "name": "stdout",
     "output_type": "stream",
     "text": [
      "Price of Mango is 24\n"
     ]
    }
   ],
   "source": [
    "if \"Mango\" in d:\n",
    "    print(\"Price of Mango is %d\"%(d[\"Mango\"]))"
   ]
  },
  {
   "cell_type": "code",
   "execution_count": 35,
   "metadata": {},
   "outputs": [
    {
     "name": "stdout",
     "output_type": "stream",
     "text": [
      "{'Mango': 24, 'Apple': 80, 'Guava': 60, 'Grape': [10, 20], 'Pineapple': {'Small': 90, 'Large': 150}}\n",
      "{'Apple': 80, 'Guava': 60, 'Grape': [10, 20], 'Pineapple': {'Small': 90, 'Large': 150}}\n"
     ]
    }
   ],
   "source": [
    "print(d)\n",
    "del d[\"Mango\"]\n",
    "print(d)"
   ]
  },
  {
   "cell_type": "code",
   "execution_count": 36,
   "metadata": {},
   "outputs": [
    {
     "name": "stdout",
     "output_type": "stream",
     "text": [
      "dict_items([('Apple', 80), ('Guava', 60), ('Grape', [10, 20]), ('Pineapple', {'Small': 90, 'Large': 150})])\n"
     ]
    }
   ],
   "source": [
    "print(d.items())"
   ]
  },
  {
   "cell_type": "code",
   "execution_count": 37,
   "metadata": {},
   "outputs": [
    {
     "name": "stdout",
     "output_type": "stream",
     "text": [
      "[('Apple', 80), ('Guava', 60), ('Grape', [10, 20]), ('Pineapple', {'Small': 90, 'Large': 150})]\n"
     ]
    }
   ],
   "source": [
    "l = list(d.items())\n",
    "print(l)"
   ]
  },
  {
   "cell_type": "code",
   "execution_count": 38,
   "metadata": {},
   "outputs": [
    {
     "name": "stdout",
     "output_type": "stream",
     "text": [
      "{1: 'one', 2: 'three'}\n",
      "{1: 'one', 2: 'three', 3: 'three'}\n"
     ]
    }
   ],
   "source": [
    "d1 = {1:\"one\", 2:\"two\"}\n",
    "d2 = {2:\"three\"}\n",
    "\n",
    "d1.update(d2)\n",
    "print(d1)\n",
    "\n",
    "d1.update({3:\"three\"})\n",
    "print(d1)"
   ]
  },
  {
   "cell_type": "code",
   "execution_count": 39,
   "metadata": {},
   "outputs": [
    {
     "name": "stdout",
     "output_type": "stream",
     "text": [
      "4\n",
      "{}\n",
      "0\n"
     ]
    }
   ],
   "source": [
    "print(len(d))\n",
    "d.clear()\n",
    "print(d)\n",
    "print(len(d))"
   ]
  },
  {
   "cell_type": "code",
   "execution_count": 40,
   "metadata": {},
   "outputs": [
    {
     "name": "stdout",
     "output_type": "stream",
     "text": [
      "{'Apple': 100, 'Papaya': 200, 'Guava': 150, 'Banana': 12}\n"
     ]
    }
   ],
   "source": [
    "l1 = [\"Apple\",\"Papaya\",\"Guava\",\"Banana\"]\n",
    "l2 = [100,200,150,12]\n",
    "\n",
    "p = dict(zip(l1,l2))\n",
    "print(p)"
   ]
  },
  {
   "cell_type": "code",
   "execution_count": 41,
   "metadata": {},
   "outputs": [
    {
     "name": "stdout",
     "output_type": "stream",
     "text": [
      "100 200 150 12 "
     ]
    }
   ],
   "source": [
    "for k in p.values():\n",
    "    print(k,end=\" \")"
   ]
  },
  {
   "cell_type": "code",
   "execution_count": null,
   "metadata": {},
   "outputs": [],
   "source": []
  }
 ],
 "metadata": {
  "kernelspec": {
   "display_name": "Python 3",
   "language": "python",
   "name": "python3"
  },
  "language_info": {
   "codemirror_mode": {
    "name": "ipython",
    "version": 3
   },
   "file_extension": ".py",
   "mimetype": "text/x-python",
   "name": "python",
   "nbconvert_exporter": "python",
   "pygments_lexer": "ipython3",
   "version": "3.6.7"
  }
 },
 "nbformat": 4,
 "nbformat_minor": 2
}
