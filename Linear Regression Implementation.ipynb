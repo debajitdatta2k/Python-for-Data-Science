{
 "cells": [
  {
   "cell_type": "code",
   "execution_count": 67,
   "metadata": {},
   "outputs": [],
   "source": [
    "import numpy as np\n",
    "import matplotlib.pyplot as plt\n",
    "import pandas as pd"
   ]
  },
  {
   "cell_type": "markdown",
   "metadata": {},
   "source": [
    "## Loading the Data"
   ]
  },
  {
   "cell_type": "code",
   "execution_count": 68,
   "metadata": {},
   "outputs": [
    {
     "name": "stdout",
     "output_type": "stream",
     "text": [
      "<class 'pandas.core.frame.DataFrame'>\n",
      "<class 'numpy.ndarray'>\n",
      "(99, 1)\n",
      "(99, 1)\n",
      "1\n"
     ]
    }
   ],
   "source": [
    "dfx = pd.read_csv(\"linearX.csv\") ## dfx is a dataframe\n",
    "dfy = pd.read_csv(\"linearY.csv\")\n",
    "\n",
    "print(type(dfx))\n",
    "print(type(dfx.values)) ## dfx.values is a numpy array\n",
    "\n",
    "print(dfx.values.shape) ## (99,1)\n",
    "print(dfy.values.shape) ## (99,1)\n",
    "var = dfx.values.shape[1]\n",
    "print(var)\n",
    "x = dfx.values.reshape(-1,) ## (99,)\n",
    "y = dfy.values.reshape(-1,) ## (99,)"
   ]
  },
  {
   "cell_type": "markdown",
   "metadata": {},
   "source": [
    "## Visualizing the Data"
   ]
  },
  {
   "cell_type": "code",
   "execution_count": 69,
   "metadata": {},
   "outputs": [
    {
     "data": {
      "image/png": "[encoded data removed]",
      "text/plain": [
       "<Figure size 432x288 with 1 Axes>"
      ]
     },
     "metadata": {
      "needs_background": "light"
     },
     "output_type": "display_data"
    }
   ],
   "source": [
    "plt.scatter(x,y)\n",
    "plt.show()"
   ]
  },
  {
   "cell_type": "markdown",
   "metadata": {},
   "source": [
    "## Normalizing the data"
   ]
  },
  {
   "cell_type": "code",
   "execution_count": 70,
   "metadata": {},
   "outputs": [],
   "source": [
    "x_old = x\n",
    "x = (x - x.mean())/x.std()"
   ]
  },
  {
   "cell_type": "code",
   "execution_count": 71,
   "metadata": {
    "scrolled": true
   },
   "outputs": [
    {
     "data": {
      "image/png": "[encoded data removed]",
      "text/plain": [
       "<Figure size 432x288 with 1 Axes>"
      ]
     },
     "metadata": {
      "needs_background": "light"
     },
     "output_type": "display_data"
    }
   ],
   "source": [
    "plt.scatter(x,y,color='green')\n",
    "plt.scatter(x_old,y,color='orange',label=\"Normalized Data\")\n",
    "plt.legend()\n",
    "plt.show()"
   ]
  },
  {
   "cell_type": "markdown",
   "metadata": {},
   "source": [
    "## Applying Gradient Descent Algorithm"
   ]
  },
  {
   "cell_type": "code",
   "execution_count": 72,
   "metadata": {},
   "outputs": [],
   "source": [
    "def hypothesis(x,theta):\n",
    "    return theta[1]*x + theta[0]\n",
    "\n",
    "def gradient(x,theta):\n",
    "    m = x.shape[0]\n",
    "    grad = np.zeros((2,))\n",
    "    for i in range(m):\n",
    "        grad[0] += (hypothesis(x[i],theta) - y[i])\n",
    "        grad[1] += (hypothesis(x[i],theta) - y[i])*x[i]\n",
    "    \n",
    "    return grad\n",
    "\n",
    "def gradDescent(x,y,learningRate=0.01):\n",
    "\n",
    "    itr = 1\n",
    "    theta = np.array([-2.0,0.0])\n",
    "    while(itr<=100):\n",
    "        theta = theta - learningRate*gradient(x,theta)\n",
    "        itr +=1\n",
    "    \n",
    "    \n",
    "    return theta\n"
   ]
  },
  {
   "cell_type": "code",
   "execution_count": 73,
   "metadata": {},
   "outputs": [],
   "source": [
    "new_theta = gradDescent(x,y)"
   ]
  },
  {
   "cell_type": "code",
   "execution_count": 74,
   "metadata": {},
   "outputs": [
    {
     "name": "stdout",
     "output_type": "stream",
     "text": [
      "[0.99663414 0.00135794]\n"
     ]
    }
   ],
   "source": [
    "print(new_theta)"
   ]
  },
  {
   "cell_type": "code",
   "execution_count": 81,
   "metadata": {},
   "outputs": [
    {
     "ename": "AttributeError",
     "evalue": "'numpy.ndarray' object has no attribute 'hstack'",
     "output_type": "error",
     "traceback": [
      "\u001b[1;31m---------------------------------------------------------------------------\u001b[0m",
      "\u001b[1;31mAttributeError\u001b[0m                            Traceback (most recent call last)",
      "\u001b[1;32m<ipython-input-81-90cf6c6e1fba>\u001b[0m in \u001b[0;36m<module>\u001b[1;34m\u001b[0m\n\u001b[1;32m----> 1\u001b[1;33m \u001b[0mx\u001b[0m \u001b[1;33m=\u001b[0m \u001b[0mnp\u001b[0m\u001b[1;33m.\u001b[0m\u001b[0marray\u001b[0m\u001b[1;33m(\u001b[0m\u001b[1;33m[\u001b[0m\u001b[1;36m1\u001b[0m\u001b[1;33m]\u001b[0m\u001b[1;33m)\u001b[0m\u001b[1;33m.\u001b[0m\u001b[0mhstack\u001b[0m\u001b[1;33m(\u001b[0m\u001b[0mx\u001b[0m\u001b[1;33m)\u001b[0m\u001b[1;33m\u001b[0m\u001b[1;33m\u001b[0m\u001b[0m\n\u001b[0m\u001b[0;32m      2\u001b[0m \u001b[0mx\u001b[0m\u001b[1;33m\u001b[0m\u001b[1;33m\u001b[0m\u001b[0m\n",
      "\u001b[1;31mAttributeError\u001b[0m: 'numpy.ndarray' object has no attribute 'hstack'"
     ]
    }
   ],
   "source": [
    "x = np.array([1]).hstack(x)\n",
    "x"
   ]
  },
  {
   "cell_type": "code",
   "execution_count": 75,
   "metadata": {},
   "outputs": [],
   "source": [
    "def error(X,Y,theta):\n",
    "    \n",
    "    m = X.shape[0]\n",
    "    error = 0\n",
    "    \n",
    "    for i in range(m):\n",
    "        hx = hypothesis(X[i],theta)\n",
    "        error += (hx-Y[i])**2\n",
    "        \n",
    "    return error\n",
    "\n",
    "def gradient(X,Y,theta):\n",
    "    \n",
    "    grad = np.zeros((2,))\n",
    "    m = X.shape[0]\n",
    "\n",
    "    for i in range(m):\n",
    "        hx = hypothesis(X[i],theta)\n",
    "        grad[0] +=  (hx-Y[i])\n",
    "        grad[1] += (hx-Y[i])*X[i]\n",
    "        \n",
    "    return grad\n",
    "    \n",
    "#Algorithm\n",
    "def gradientDescent(X,Y,learning_rate=0.001):\n",
    "    \n",
    "    theta = np.array([-2.0,0.0])\n",
    "    \n",
    "    itr = 0\n",
    "    max_itr = 100\n",
    "    \n",
    "    error_list = []\n",
    "    theta_list = []\n",
    "    \n",
    "    while(itr<=max_itr):\n",
    "        grad = gradient(X,Y,theta)\n",
    "        e = error(X,Y,theta)\n",
    "        error_list.append(e)\n",
    "        \n",
    "        theta_list.append((theta[0],theta[1]))\n",
    "        theta[0] = theta[0] - learning_rate*grad[0]\n",
    "        theta[1] = theta[1] - learning_rate*grad[1]\n",
    "        \n",
    "        \n",
    "        itr += 1\n",
    "        \n",
    "    \n",
    "    return theta,error_list,theta_list\n",
    "\n",
    "    "
   ]
  },
  {
   "cell_type": "code",
   "execution_count": 76,
   "metadata": {},
   "outputs": [],
   "source": [
    "final_theta, error_list,theta_list = gradientDescent(x,y)"
   ]
  },
  {
   "cell_type": "code",
   "execution_count": 77,
   "metadata": {},
   "outputs": [
    {
     "name": "stdout",
     "output_type": "stream",
     "text": [
      "[0.996554  0.0013579]\n"
     ]
    },
    {
     "data": {
      "image/png": "[encoded data removed]",
      "text/plain": [
       "<Figure size 432x288 with 1 Axes>"
      ]
     },
     "metadata": {
      "needs_background": "light"
     },
     "output_type": "display_data"
    }
   ],
   "source": [
    "print(final_theta)\n",
    "plt.plot(error_list)\n",
    "plt.show()"
   ]
  },
  {
   "cell_type": "code",
   "execution_count": null,
   "metadata": {},
   "outputs": [],
   "source": []
  }
 ],
 "metadata": {
  "kernelspec": {
   "display_name": "Python 3",
   "language": "python",
   "name": "python3"
  },
  "language_info": {
   "codemirror_mode": {
    "name": "ipython",
    "version": 3
   },
   "file_extension": ".py",
   "mimetype": "text/x-python",
   "name": "python",
   "nbconvert_exporter": "python",
   "pygments_lexer": "ipython3",
   "version": "3.7.3"
  }
 },
 "nbformat": 4,
 "nbformat_minor": 2
}
