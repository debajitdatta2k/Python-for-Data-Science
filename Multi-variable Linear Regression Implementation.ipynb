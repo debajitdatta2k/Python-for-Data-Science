{
 "cells": [
  {
   "cell_type": "code",
   "execution_count": 39,
   "metadata": {},
   "outputs": [],
   "source": [
    "import numpy as np\n",
    "import matplotlib.pyplot as plt\n",
    "import pandas as pd"
   ]
  },
  {
   "cell_type": "code",
   "execution_count": 40,
   "metadata": {},
   "outputs": [
    {
     "name": "stdout",
     "output_type": "stream",
     "text": [
      "Index(['feature_1', 'feature_2', 'feature_3', 'feature_4', 'feature_5',\n",
      "       'target'],\n",
      "      dtype='object')\n"
     ]
    }
   ],
   "source": [
    "df = pd.read_csv('Train.csv')\n",
    "print(df.columns)\n",
    "y = df.get('target')\n",
    "x = df.values[:,0:5]\n",
    "x = (x - x.mean())/x.std()"
   ]
  },
  {
   "cell_type": "code",
   "execution_count": 41,
   "metadata": {},
   "outputs": [
    {
     "name": "stdout",
     "output_type": "stream",
     "text": [
      "(1600, 5)\n",
      "5\n",
      "(1600,)\n"
     ]
    }
   ],
   "source": [
    "print(x.shape)\n",
    "print(x[1].shape[0])\n",
    "print(y.shape)"
   ]
  },
  {
   "cell_type": "code",
   "execution_count": 42,
   "metadata": {},
   "outputs": [
    {
     "name": "stdout",
     "output_type": "stream",
     "text": [
      "1.4913869905090853\n",
      "[29.84297081 93.16540718  8.32556432 45.01071403  2.53283406]\n"
     ]
    }
   ],
   "source": [
    "from sklearn.linear_model import LinearRegression\n",
    "model = LinearRegression()\n",
    "model.fit(x,y)\n",
    "output = model.predict(x)\n",
    "bias = model.intercept_\n",
    "coeff = model.coef_\n",
    "print(bias)\n",
    "print(coeff)"
   ]
  },
  {
   "cell_type": "code",
   "execution_count": 43,
   "metadata": {},
   "outputs": [
    {
     "name": "stdout",
     "output_type": "stream",
     "text": [
      "(1600, 5) (1600, 1)\n",
      "(1600, 6)\n"
     ]
    }
   ],
   "source": [
    "one = np.ones((x.shape[0],1))\n",
    "print(x.shape,one.shape)\n",
    "x = np.hstack((one,x))\n",
    "print(x.shape)"
   ]
  },
  {
   "cell_type": "code",
   "execution_count": 44,
   "metadata": {},
   "outputs": [],
   "source": [
    "def hypothesis(x,theta):\n",
    "    yx = 0\n",
    "    for i in range(x.shape[0]):\n",
    "        yx += x[i]*theta[i]\n",
    "    return yx\n",
    "\n",
    "def gradMatrix(x,y,theta):\n",
    "    grad= np.zeros((x.shape[1],))\n",
    "    \n",
    "    for j in range(x.shape[1]):\n",
    "        for i in range(x.shape[0]):\n",
    "            grad[j] += (hypothesis(x[i],theta) - y[i])*x[i][j]\n",
    "    return grad\n",
    "\n",
    "def gradDescent(x,y,eta=0.001):\n",
    "    \n",
    "    theta = np.full((x.shape[1],),y.mean())\n",
    "    itr = 1\n",
    "    max_itr = 300\n",
    "    while(itr<=max_itr):\n",
    "        theta = theta - eta*gradMatrix(x,y,theta)\n",
    "        itr += 1\n",
    "    return theta       "
   ]
  },
  {
   "cell_type": "code",
   "execution_count": 45,
   "metadata": {},
   "outputs": [],
   "source": [
    "new_theta = gradDescent(x,y)"
   ]
  },
  {
   "cell_type": "code",
   "execution_count": 46,
   "metadata": {},
   "outputs": [
    {
     "name": "stdout",
     "output_type": "stream",
     "text": [
      "[ 1.49138699 29.84297081 93.16540718  8.32556432 45.01071403  2.53283406]\n"
     ]
    }
   ],
   "source": [
    "print(new_theta)"
   ]
  },
  {
   "cell_type": "code",
   "execution_count": 47,
   "metadata": {},
   "outputs": [
    {
     "name": "stdout",
     "output_type": "stream",
     "text": [
      "1.491386990509084\n",
      "29.842970811758942\n",
      "93.16540718273865\n",
      "8.32556431513021\n",
      "45.01071402829815\n",
      "2.5328340626506782\n"
     ]
    }
   ],
   "source": [
    "for i in new_theta:\n",
    "    print(i)"
   ]
  },
  {
   "cell_type": "code",
   "execution_count": 36,
   "metadata": {},
   "outputs": [],
   "source": [
    "from sklearn.datasets import load_boston\n",
    "boston = load_boston()\n",
    "x = boston.data\n",
    "y = boston.target\n",
    "x = (x - x.mean())/x.std()"
   ]
  },
  {
   "cell_type": "code",
   "execution_count": null,
   "metadata": {},
   "outputs": [],
   "source": [
    "from sklearn.linear_model import LinearRegression\n",
    "model = LinearRegression()\n",
    "model.fit(x,y)\n",
    "output = model.predict(x)\n",
    "bias = model.intercept_\n",
    "coeff = model.coef_\n",
    "print(bias)\n",
    "print(coeff)"
   ]
  },
  {
   "cell_type": "markdown",
   "metadata": {},
   "source": [
    "## mini batch implementation for multiple variable regression"
   ]
  },
  {
   "cell_type": "code",
   "execution_count": 36,
   "metadata": {},
   "outputs": [],
   "source": [
    "def hypothesis(x,theta):\n",
    "    yx = 0\n",
    "    for i in range(x.shape[0]):\n",
    "        yx += x[i]*theta[i]\n",
    "    return yx\n",
    "\n",
    "def batch_gradMatrix(x,y,theta,batch_size=1):\n",
    "    \n",
    "    m = x.shape[0]\n",
    "    indices = np.arange(m)\n",
    "    np.random.shuffle(indices)\n",
    "    indices = indices[:batch_size]\n",
    "    grad= np.zeros((x.shape[1],))\n",
    "    \n",
    "    for j in range(x.shape[1]):\n",
    "        for i in indices:\n",
    "            grad[j] += (hypothesis(x[i],theta) - y[i])*x[i][j]\n",
    "            \n",
    "    return grad\n",
    "\n",
    "def gradDescent(x,y,eta=0.001):\n",
    "    \n",
    "    theta = np.full((x.shape[1],),y.mean())\n",
    "    itr = 1\n",
    "    max_itr = 300\n",
    "    while(itr<=max_itr):\n",
    "        theta = theta - eta*batch_gradMatrix(x,y,theta,x.shape[0]//4)\n",
    "        itr += 1\n",
    "    return theta "
   ]
  },
  {
   "cell_type": "code",
   "execution_count": 37,
   "metadata": {},
   "outputs": [
    {
     "name": "stdout",
     "output_type": "stream",
     "text": [
      "1.7481369482451337\n",
      "30.389122436278786\n",
      "93.98760874333333\n",
      "8.547425656379643\n",
      "44.667520155898906\n",
      "2.8302253686258174\n"
     ]
    }
   ],
   "source": [
    "new_theta = gradDescent(x,y)\n",
    "for i in new_theta:\n",
    "    print(i)"
   ]
  },
  {
   "cell_type": "code",
   "execution_count": null,
   "metadata": {},
   "outputs": [],
   "source": [
    "1.491386990509084\n",
    "29.842970811758942\n",
    "93.16540718273865\n",
    "8.32556431513021\n",
    "45.01071402829815\n",
    "2.5328340626506782"
   ]
  },
  {
   "cell_type": "code",
   "execution_count": 51,
   "metadata": {},
   "outputs": [],
   "source": [
    "def hypothesis(x,theta):\n",
    "    yx = 0\n",
    "    for i in range(x.shape[0]):\n",
    "        yx += x[i]*theta[i]\n",
    "    return yx\n",
    "\n",
    "def gradMatrix(x,y,theta):\n",
    "    grad= np.zeros((x.shape[1],))\n",
    "    \n",
    "    for i in range(x.shape[0]):\n",
    "        grad += (hypothesis(x[i],theta) - y[i])*x[i]\n",
    "    \n",
    "    return grad\n",
    "\n",
    "def gradDescent(x,y,eta=0.001):\n",
    "    \n",
    "    theta = np.full((x.shape[1],),y.mean())\n",
    "    itr = 1\n",
    "    max_itr = 300\n",
    "    while(itr<=max_itr):\n",
    "        theta = theta - eta*gradMatrix(x,y,theta)\n",
    "        itr += 1\n",
    "    return theta   "
   ]
  },
  {
   "cell_type": "code",
   "execution_count": 52,
   "metadata": {},
   "outputs": [],
   "source": [
    "new_theta = gradDescent(x,y)"
   ]
  },
  {
   "cell_type": "code",
   "execution_count": 53,
   "metadata": {},
   "outputs": [
    {
     "name": "stdout",
     "output_type": "stream",
     "text": [
      "1.491386990509084\n",
      "29.842970811758942\n",
      "93.16540718273865\n",
      "8.32556431513021\n",
      "45.01071402829815\n",
      "2.5328340626506782\n"
     ]
    }
   ],
   "source": [
    "for i in new_theta:\n",
    "    print(i)"
   ]
  },
  {
   "cell_type": "code",
   "execution_count": null,
   "metadata": {},
   "outputs": [],
   "source": []
  }
 ],
 "metadata": {
  "kernelspec": {
   "display_name": "Python 3",
   "language": "python",
   "name": "python3"
  },
  "language_info": {
   "codemirror_mode": {
    "name": "ipython",
    "version": 3
   },
   "file_extension": ".py",
   "mimetype": "text/x-python",
   "name": "python",
   "nbconvert_exporter": "python",
   "pygments_lexer": "ipython3",
   "version": "3.7.3"
  }
 },
 "nbformat": 4,
 "nbformat_minor": 2
}
